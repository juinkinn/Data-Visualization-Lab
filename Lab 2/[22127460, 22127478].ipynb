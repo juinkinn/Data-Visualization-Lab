{
 "cells": [
  {
   "cell_type": "markdown",
   "metadata": {},
   "source": [
    "# LAB 02: Data mining and visualization"
   ]
  },
  {
   "cell_type": "markdown",
   "metadata": {},
   "source": [
    "### Team information"
   ]
  },
  {
   "cell_type": "markdown",
   "metadata": {},
   "source": [
    "Class : 22KHDL"
   ]
  },
  {
   "cell_type": "markdown",
   "metadata": {},
   "source": [
    "|Student's ID| Name |\n",
    "|------------|--------------|\n",
    "|22127460| Quách Trần Quán Vinh|\n",
    "|22127478| Nguyễn Hoàng Trung Kiên|"
   ]
  },
  {
   "cell_type": "markdown",
   "metadata": {},
   "source": [
    "### Import libraries"
   ]
  },
  {
   "cell_type": "markdown",
   "metadata": {},
   "source": [
    "- Libraries to handle and visualize data"
   ]
  },
  {
   "cell_type": "code",
   "execution_count": null,
   "metadata": {},
   "outputs": [],
   "source": [
    "import matplotlib.pyplot as plt\n",
    "import seaborn as sns\n",
    "import pandas as pd\n",
    "import re\n",
    "import numpy as np"
   ]
  },
  {
   "cell_type": "markdown",
   "metadata": {},
   "source": [
    "## 1. Data collection"
   ]
  },
  {
   "cell_type": "markdown",
   "metadata": {},
   "source": [
    "- Scrape data and save to a `.csv` file."
   ]
  },
  {
   "cell_type": "markdown",
   "metadata": {},
   "source": [
    "### 1.2. Exploring and preprocessing data"
   ]
  },
  {
   "cell_type": "markdown",
   "metadata": {},
   "source": [
    "#### 1.2.1. Data exploration"
   ]
  },
  {
   "cell_type": "markdown",
   "metadata": {},
   "source": [
    "- Read data "
   ]
  },
  {
   "cell_type": "code",
   "execution_count": null,
   "metadata": {},
   "outputs": [],
   "source": [
    "df = pd.read_csv('tracks_chartmetric.csv')\n",
    "df"
   ]
  },
  {
   "cell_type": "markdown",
   "metadata": {},
   "source": [
    "- Data information"
   ]
  },
  {
   "cell_type": "code",
   "execution_count": null,
   "metadata": {},
   "outputs": [],
   "source": [
    "df.info()"
   ]
  },
  {
   "cell_type": "code",
   "execution_count": null,
   "metadata": {},
   "outputs": [],
   "source": [
    "df.shape"
   ]
  },
  {
   "cell_type": "markdown",
   "metadata": {},
   "source": [
    "- Data columns"
   ]
  },
  {
   "cell_type": "code",
   "execution_count": null,
   "metadata": {},
   "outputs": [],
   "source": [
    "print(df.columns)"
   ]
  },
  {
   "cell_type": "markdown",
   "metadata": {},
   "source": [
    "**Meaning of each columns**"
   ]
  },
  {
   "cell_type": "markdown",
   "metadata": {},
   "source": [
    "#### 1.2.2. Data preprocessing"
   ]
  },
  {
   "cell_type": "markdown",
   "metadata": {},
   "source": [
    "- Handle duplicates"
   ]
  },
  {
   "cell_type": "code",
   "execution_count": null,
   "metadata": {},
   "outputs": [],
   "source": [
    "df.duplicated().sum()"
   ]
  },
  {
   "cell_type": "markdown",
   "metadata": {},
   "source": [
    "There are 29 duplicate records in the data so we will drop them."
   ]
  },
  {
   "cell_type": "code",
   "execution_count": null,
   "metadata": {},
   "outputs": [],
   "source": [
    "df = df.drop_duplicates()"
   ]
  },
  {
   "cell_type": "markdown",
   "metadata": {},
   "source": [
    "- Handle missing values"
   ]
  },
  {
   "cell_type": "code",
   "execution_count": null,
   "metadata": {},
   "outputs": [],
   "source": [
    "df.isna().sum()"
   ]
  },
  {
   "cell_type": "markdown",
   "metadata": {},
   "source": [
    "- Define numeric columns"
   ]
  },
  {
   "cell_type": "code",
   "execution_count": null,
   "metadata": {},
   "outputs": [],
   "source": [
    "numeric_cols = ['score', 'airplay_streams', 'itunes_playlist_count', 'shazam_count', 'spotify_playlist_count'\t\n",
    "                ,'spotify_playlist_total_reach', 'spotify_plays', 'spotify_popularity', 'spotify_ed_playlist_count',\n",
    "                'spotify_ed_playlist_total_reach', 'youtube_likes', 'youtube_views']"
   ]
  },
  {
   "cell_type": "code",
   "execution_count": null,
   "metadata": {},
   "outputs": [],
   "source": [
    "plt.figure(figsize=(15, 18))  \n",
    "\n",
    "for i in range(len(numeric_cols)):\n",
    "    plt.subplot(4, 3, i + 1)\n",
    "    plt.hist(df[numeric_cols[i]], bins=20, edgecolor='black', alpha=0.7, density=True)\n",
    "    sns.kdeplot(df[numeric_cols[i]], color='red', linewidth=2)\n",
    "    plt.title(f'Distribution of {numeric_cols[i]}')\n",
    "    plt.xlabel(numeric_cols[i])\n",
    "    plt.ylabel('Density')\n",
    "    plt.xticks(rotation=45)\n",
    "    plt.ticklabel_format(style='plain', axis='both')  \n",
    "    \n",
    "plt.tight_layout(pad=3.0)\n",
    "plt.show()"
   ]
  },
  {
   "cell_type": "markdown",
   "metadata": {},
   "source": [
    "From the plot above we can see that the numeric columns have heavily right-skewed distribution because of some outliers.\n",
    "\n",
    "$\\rightarrow$ To handle this we will fill missing values with **median** for simplicity since the columns have low number of missing values so use this filling method will not effect the distribution."
   ]
  },
  {
   "cell_type": "code",
   "execution_count": null,
   "metadata": {},
   "outputs": [],
   "source": [
    "for col in numeric_cols:\n",
    "    df[col] = df[col].fillna(df[col].median())"
   ]
  },
  {
   "cell_type": "markdown",
   "metadata": {},
   "source": [
    "- Check missing values again"
   ]
  },
  {
   "cell_type": "code",
   "execution_count": null,
   "metadata": {},
   "outputs": [],
   "source": [
    "df.isna().sum()"
   ]
  },
  {
   "cell_type": "markdown",
   "metadata": {},
   "source": [
    "The data now has no missing values."
   ]
  },
  {
   "cell_type": "markdown",
   "metadata": {},
   "source": [
    "- Handle data format"
   ]
  },
  {
   "cell_type": "markdown",
   "metadata": {},
   "source": [
    "We take a look through the data types."
   ]
  },
  {
   "cell_type": "code",
   "execution_count": null,
   "metadata": {},
   "outputs": [],
   "source": [
    "df.dtypes"
   ]
  },
  {
   "cell_type": "markdown",
   "metadata": {},
   "source": [
    "### Data after being preprocessed"
   ]
  },
  {
   "cell_type": "code",
   "execution_count": null,
   "metadata": {},
   "outputs": [],
   "source": [
    "df.head()"
   ]
  },
  {
   "cell_type": "markdown",
   "metadata": {},
   "source": [
    "Store data into csv."
   ]
  },
  {
   "cell_type": "code",
   "execution_count": null,
   "metadata": {},
   "outputs": [],
   "source": [
    "df.to_csv('tracks_preprocessed.csv')"
   ]
  },
  {
   "cell_type": "markdown",
   "metadata": {},
   "source": [
    "## 2. Data visualization"
   ]
  },
  {
   "cell_type": "markdown",
   "metadata": {},
   "source": [
    "### 2.1. Data introduction"
   ]
  },
  {
   "cell_type": "markdown",
   "metadata": {},
   "source": [
    "#### 2.1.1. Introduction"
   ]
  },
  {
   "cell_type": "markdown",
   "metadata": {},
   "source": [
    "#### 2.1.2. Sample size"
   ]
  },
  {
   "cell_type": "code",
   "execution_count": null,
   "metadata": {},
   "outputs": [],
   "source": [
    "df.shape"
   ]
  },
  {
   "cell_type": "markdown",
   "metadata": {},
   "source": [
    "The data now has 9970 rows (> 3000 rows) with meaningful columns suitable for analysis."
   ]
  },
  {
   "cell_type": "markdown",
   "metadata": {},
   "source": [
    "#### 2.1.3. Structures"
   ]
  },
  {
   "cell_type": "code",
   "execution_count": null,
   "metadata": {},
   "outputs": [],
   "source": [
    "df.info()"
   ]
  },
  {
   "cell_type": "markdown",
   "metadata": {},
   "source": [
    "#### 2.1.4. Statistics description"
   ]
  },
  {
   "cell_type": "code",
   "execution_count": null,
   "metadata": {},
   "outputs": [],
   "source": [
    "df[numeric_cols].describe()"
   ]
  },
  {
   "cell_type": "markdown",
   "metadata": {},
   "source": [
    "### 2.2. Visualization objectives"
   ]
  },
  {
   "cell_type": "markdown",
   "metadata": {},
   "source": [
    "There are 2 members in our team, so we decide to derive 4 objectives:"
   ]
  },
  {
   "cell_type": "markdown",
   "metadata": {},
   "source": [
    "#### 1. How do Pop tracks perform compared to other genres on Spotify from 2020 to 2024?\n",
    "\n",
    "**Benefits**\n",
    "- Helps the artists and producers release tracks that can increase their engagement, keep up with the trends and reach a wider audience. \n",
    "\n",
    "- Enhances playlists, keeps listeners engaged, and recommends the best mix of Pop songs.\n",
    "\n",
    "**Features used in data**\n",
    "\n",
    "- ```release_date```, ```genre```, ```spotify_plays```, ```spotify_popularity```"
   ]
  },
  {
   "cell_type": "markdown",
   "metadata": {},
   "source": [
    "#### 2. Which season produces the most successful Spotify tracks in terms of YouTube popularity?\n",
    "\n",
    "**Benefits**\n",
    "- Helps the artists, producers or content creators make strategies to release trending tracks, from that maximizing views and likes count on Youtube platform.\n",
    "\n",
    "- Viewers can discover the best music videos or playlists for every seasons.\n",
    "\n",
    "**Features used in data**\n",
    "\n",
    "- ```spotify_popularity```, ```release date```, ```youtube_likes```, ```youtube_views```"
   ]
  },
  {
   "cell_type": "markdown",
   "metadata": {},
   "source": [
    "#### 3. Which artist has the greatest influence on Spotify, and is this related to their music genre?\n",
    "\n",
    "**Benefits**\n",
    "- Provides insights for artists, music producers to review their current work and make some useful strategies for the future plans.\n",
    "\n",
    "- Helps to understand if the successful artists made huge influence across different platforms.\n",
    "\n",
    "- Enhances playlist filter by featuring artists with strong cross-platform influence.\n",
    "\n",
    "**Features used in data**  \n",
    "- `genre`, `artist`, `spotify_plays`"
   ]
  },
  {
   "cell_type": "markdown",
   "metadata": {},
   "source": [
    "#### 4. How does explicit content affect a track's popularity across platform?\n",
    "\n",
    "**Benefits**\n",
    "- Helps artists and composers alter the lyrics which is suitable for the audience expectation for maximum reach and engagement.\n",
    "\n",
    "- Reveals audience preferences for explicit vs. clean content across different genres whether they prefer the tracks that have explicit content or not.\n",
    "\n",
    "**Features used in data**\n",
    "- ```genre```, ```explicit```, ```score```, ```spotify_popularity```, `spotify_plays`, ..."
   ]
  },
  {
   "cell_type": "markdown",
   "metadata": {},
   "source": [
    "### 2.3. Analyzing objectives"
   ]
  },
  {
   "cell_type": "markdown",
   "metadata": {},
   "source": [
    "#### 1. How do Pop tracks perform compared to other genres on Spotify from 2020 to 2024?\n",
    "##### First, we identify the Pop tracks in the dataset"
   ]
  },
  {
   "cell_type": "markdown",
   "metadata": {},
   "source": [
    "#### 2. Which season produces the most successful Spotify tracks in terms of YouTube popularity?\n",
    "##### First, we classify each track based on four seasons in year"
   ]
  },
  {
   "cell_type": "markdown",
   "metadata": {},
   "source": [
    "#### 3. Which song by the top 10 artists on Spotify has the greatest influence, and is this related to the music genre?\n",
    "##### First, we visualize top 10 artists with highest `spotify_plays` in entire dataset\n",
    "We will use **bar chart** to visualize the distribution.  \n",
    "\n",
    "**Reason**: It is easier to show top 10 artists by the total `spotify_plays` of all their tracks."
   ]
  },
  {
   "cell_type": "markdown",
   "metadata": {},
   "source": [
    "#### 4. How does explicit content affect a track's popularity across platform?\n",
    "First, let's breakdown the objectives into smaller analysis to get more insights\n",
    "##### What is the distribution of explicit and non-explicit tracks over the entire dataset?\n",
    "We will use **pie chart** to visualize this question.\n",
    "\n",
    "**Reason**: To the percentage of explicit and non-explicit over the entire data."
   ]
  }
 ],
 "metadata": {
  "kernelspec": {
   "display_name": "Python 3",
   "language": "python",
   "name": "python3"
  },
  "language_info": {
   "codemirror_mode": {
    "name": "ipython",
    "version": 3
   },
   "file_extension": ".py",
   "mimetype": "text/x-python",
   "name": "python",
   "nbconvert_exporter": "python",
   "pygments_lexer": "ipython3",
   "version": "3.13.2"
  }
 },
 "nbformat": 4,
 "nbformat_minor": 2
}
