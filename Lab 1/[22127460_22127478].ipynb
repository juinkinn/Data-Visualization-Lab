{
 "cells": [
  {
   "cell_type": "code",
   "execution_count": 5,
   "metadata": {},
   "outputs": [
    {
     "name": "stdout",
     "output_type": "stream",
     "text": [
      "Done crawling year 2023 with 1000 records.\n",
      "Done crawling year 2021 with 1000 records.\n",
      "Done crawling year 2022 with 1000 records.\n",
      "Done crawling year 2024 with 1000 records.\n",
      "Done crawling year 2020 with 1000 records.\n",
      "All data combined into all_tracks.csv!\n"
     ]
    }
   ],
   "source": [
    "from spotipy import Spotify\n",
    "import pandas as pd\n",
    "from spotipy.oauth2 import SpotifyClientCredentials\n",
    "from selenium import webdriver\n",
    "from bs4 import BeautifulSoup\n",
    "import re\n",
    "import concurrent.futures\n",
    "import glob\n",
    "import os\n",
    "from dotenv import load_dotenv\n",
    "\n",
    "load_dotenv()\n",
    "\n",
    "# Spotify Authentication\n",
    "client_id = os.getenv(\"CLIENT_ID\")\n",
    "client_secret = os.getenv('CLIENT_SECRET')\n",
    "auth_manager = SpotifyClientCredentials(client_id=client_id, client_secret=client_secret)\n",
    "spotify = Spotify(auth_manager=auth_manager)\n",
    "\n",
    "# Function to crawl a specific year\n",
    "def crawl_year(year):\n",
    "    driver = webdriver.Chrome()\n",
    "    data = pd.DataFrame(columns=['id', 'name_song', 'name_album', 'name_artist', 'release_date', 'duration_ms', 'popularity', 'explicit', 'playback', 'available_market', 'is_playable', 'is_local'])\n",
    "\n",
    "    for i in range(0, 1000, 50):  # Adjust range if needed\n",
    "        songs = spotify.search(q=f'year:{year}', type='track', limit=50, offset=i)\n",
    "\n",
    "        for track in songs['tracks']['items']:\n",
    "            url = track['external_urls']['spotify']\n",
    "            driver.get(url)\n",
    "            soup = BeautifulSoup(driver.page_source, 'html.parser')\n",
    "            playcount_span = soup.find('span', {'data-testid': 'playcount'})\n",
    "            playback = int(re.sub(r'\\D', '', playcount_span.text)) if playcount_span else None\n",
    "\n",
    "            data.loc[-1] = [\n",
    "                track['id'],\n",
    "                track['name'],\n",
    "                track['album']['name'],\n",
    "                track['album']['artists'][0]['name'],\n",
    "                track['album']['release_date'],\n",
    "                track['duration_ms'],\n",
    "                track['popularity'],\n",
    "                track['explicit'],\n",
    "                playback,\n",
    "                track['available_markets'],\n",
    "                track['is_playable'],\n",
    "                track['is_local']\n",
    "            ]\n",
    "            data.index = data.index + 1\n",
    "            data = data.sort_index()\n",
    "\n",
    "    driver.quit()\n",
    "\n",
    "    # Save data for the year\n",
    "    data.to_csv(f'tracks_{year}.csv', index=False)\n",
    "    print(f'Done crawling year {year} with {len(data)} records.')\n",
    "\n",
    "# List of years to crawl\n",
    "years = ['2020', '2021', '2022', '2023', '2024']\n",
    "\n",
    "# Using ThreadPoolExecutor in Jupyter Notebook\n",
    "with concurrent.futures.ThreadPoolExecutor() as executor:\n",
    "    executor.map(crawl_year, years)\n",
    "\n",
    "# Check if CSV files were created\n",
    "csv_files = glob.glob('tracks_*.csv')\n",
    "\n",
    "# Combine all yearly CSV files into one\n",
    "combined_data = pd.concat([pd.read_csv(file) for file in csv_files], ignore_index=True)\n",
    "combined_data.to_csv('all_tracks.csv', index=False)\n",
    "print(\"All data combined into all_tracks.csv!\")\n"
   ]
  }
 ],
 "metadata": {
  "kernelspec": {
   "display_name": "Python 3",
   "language": "python",
   "name": "python3"
  },
  "language_info": {
   "codemirror_mode": {
    "name": "ipython",
    "version": 3
   },
   "file_extension": ".py",
   "mimetype": "text/x-python",
   "name": "python",
   "nbconvert_exporter": "python",
   "pygments_lexer": "ipython3",
   "version": "3.13.2"
  }
 },
 "nbformat": 4,
 "nbformat_minor": 2
}
