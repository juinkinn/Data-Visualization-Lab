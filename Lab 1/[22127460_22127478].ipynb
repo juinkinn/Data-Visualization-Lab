{
 "cells": [
  {
   "cell_type": "code",
   "execution_count": null,
   "metadata": {},
   "outputs": [],
   "source": [
    "from requests import get, post\n",
    "from sys import exit\n",
    "import pandas as pd\n",
    "import os\n",
    "from dotenv import load_dotenv\n",
    "\n",
    "load_dotenv()\n",
    "\n",
    "HOST = 'https://api.chartmetric.com'\n",
    "TOKEN = os.getenv('REFRESH_TOKEN')\n",
    "res = post(f'{HOST}/api/token', json={\"refreshtoken\": TOKEN})\n",
    "if res.status_code != 200:\n",
    "    print(f'ERROR: received a {res.status_code} instead of 200 from /api/token')\n",
    "    exit(1)\n",
    "\n",
    "access_token = res.json()['token']\n",
    "def Get(uri):\n",
    "    return get(f'{HOST}{uri}', headers={'Authorization': f'Bearer {access_token}'})\n",
    "\n",
    "tracks = []\n",
    "for i in range(0, 10000, 100):\n",
    "    res = Get(f'/api/track/list/filter?limit=100&offset={i}')\n",
    "    if res.status_code != 200:\n",
    "        print(f'ERROR: received a {res.status_code} instead of 200 from /api/track/list/filter')\n",
    "        exit(1)\n",
    "        \n",
    "    objs = res.json()['obj']\n",
    "\n",
    "    for obj in objs:\n",
    "        track = {\n",
    "            'id': obj['cm_track'],\n",
    "            'track_name': obj['name'],\n",
    "            'album_name': obj['album'][0]['name'],\n",
    "            'release_date': obj['album'][0]['release_date'],\n",
    "            'artist': [artist['name'] for artist in obj['artist']],\n",
    "            'genre': obj['genre'],\n",
    "            'explicit': obj['explicit'],\n",
    "            'score': obj['score'],\n",
    "        }\n",
    "        \n",
    "        for key in obj['latest'].keys():\n",
    "            if key == 'rank':\n",
    "                continue\n",
    "            track[key] = obj['latest'][key]\n",
    "        tracks.append(track)\n",
    "    \n",
    "tracks_df = pd.DataFrame(tracks)\n",
    "tracks_df.to_csv('tracks_chartmetric.csv', index=False)"
   ]
  }
 ],
 "metadata": {
  "kernelspec": {
   "display_name": "Python 3",
   "language": "python",
   "name": "python3"
  },
  "language_info": {
   "codemirror_mode": {
    "name": "ipython",
    "version": 3
   },
   "file_extension": ".py",
   "mimetype": "text/x-python",
   "name": "python",
   "nbconvert_exporter": "python",
   "pygments_lexer": "ipython3",
   "version": "3.13.2"
  }
 },
 "nbformat": 4,
 "nbformat_minor": 2
}
